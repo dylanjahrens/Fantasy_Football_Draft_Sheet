{
 "cells": [
  {
   "cell_type": "code",
   "execution_count": 475,
   "metadata": {},
   "outputs": [],
   "source": [
    "import pandas as pd\n",
    "pd.options.mode.chained_assignment = None  # default='warn'"
   ]
  },
  {
   "cell_type": "code",
   "execution_count": 476,
   "metadata": {},
   "outputs": [],
   "source": [
    "#import 4 files - using seperate columns and data from each\n",
    "ffdf = pd.read_csv('FFB_top200.csv') #fantasy footballers rankings\n",
    "fptdf = pd.read_csv('FPS_TOTS.csv') #fantasy pros total points rankings\n",
    "fpadf = pd.read_csv('FPS_AVGS.csv') #fantasy pros avergage points rankings\n",
    "fpodf = pd.read_csv('FPS_OVERVIEW.csv') #fantasy pros overall rankings"
   ]
  },
  {
   "cell_type": "code",
   "execution_count": 477,
   "metadata": {},
   "outputs": [
    {
     "data": {
      "text/html": [
       "<div>\n",
       "<style scoped>\n",
       "    .dataframe tbody tr th:only-of-type {\n",
       "        vertical-align: middle;\n",
       "    }\n",
       "\n",
       "    .dataframe tbody tr th {\n",
       "        vertical-align: top;\n",
       "    }\n",
       "\n",
       "    .dataframe thead th {\n",
       "        text-align: right;\n",
       "    }\n",
       "</style>\n",
       "<table border=\"1\" class=\"dataframe\">\n",
       "  <thead>\n",
       "    <tr style=\"text-align: right;\">\n",
       "      <th></th>\n",
       "      <th>Name</th>\n",
       "      <th>Team</th>\n",
       "      <th>Pos</th>\n",
       "      <th>Position</th>\n",
       "      <th>Rank</th>\n",
       "      <th>Andy</th>\n",
       "      <th>Jason</th>\n",
       "      <th>Mike</th>\n",
       "      <th>Markers</th>\n",
       "    </tr>\n",
       "  </thead>\n",
       "  <tbody>\n",
       "    <tr>\n",
       "      <th>0</th>\n",
       "      <td>Christian McCaffrey</td>\n",
       "      <td>CAR</td>\n",
       "      <td>RB</td>\n",
       "      <td>RB</td>\n",
       "      <td>1</td>\n",
       "      <td>1</td>\n",
       "      <td>2</td>\n",
       "      <td>2</td>\n",
       "      <td>Mark Drafted                      Mark Keeper</td>\n",
       "    </tr>\n",
       "    <tr>\n",
       "      <th>1</th>\n",
       "      <td>Jonathan Taylor</td>\n",
       "      <td>IND</td>\n",
       "      <td>RB</td>\n",
       "      <td>RB</td>\n",
       "      <td>2</td>\n",
       "      <td>2</td>\n",
       "      <td>1</td>\n",
       "      <td>3</td>\n",
       "      <td>Mark Drafted                      Mark Keeper</td>\n",
       "    </tr>\n",
       "    <tr>\n",
       "      <th>2</th>\n",
       "      <td>Cooper Kupp</td>\n",
       "      <td>LAR</td>\n",
       "      <td>WR</td>\n",
       "      <td>WR</td>\n",
       "      <td>3</td>\n",
       "      <td>5</td>\n",
       "      <td>3</td>\n",
       "      <td>4</td>\n",
       "      <td>Mark Drafted                      Mark Keeper</td>\n",
       "    </tr>\n",
       "    <tr>\n",
       "      <th>3</th>\n",
       "      <td>Justin Jefferson</td>\n",
       "      <td>MIN</td>\n",
       "      <td>WR</td>\n",
       "      <td>WR</td>\n",
       "      <td>4</td>\n",
       "      <td>6</td>\n",
       "      <td>4</td>\n",
       "      <td>1</td>\n",
       "      <td>Mark Drafted                      Mark Keeper</td>\n",
       "    </tr>\n",
       "    <tr>\n",
       "      <th>4</th>\n",
       "      <td>Austin Ekeler</td>\n",
       "      <td>LAC</td>\n",
       "      <td>RB</td>\n",
       "      <td>RB</td>\n",
       "      <td>5</td>\n",
       "      <td>4</td>\n",
       "      <td>6</td>\n",
       "      <td>5</td>\n",
       "      <td>Mark Drafted                      Mark Keeper</td>\n",
       "    </tr>\n",
       "  </tbody>\n",
       "</table>\n",
       "</div>"
      ],
      "text/plain": [
       "                  Name Team Pos Position  Rank  Andy  Jason  Mike  \\\n",
       "0  Christian McCaffrey  CAR  RB       RB     1     1      2     2   \n",
       "1      Jonathan Taylor  IND  RB       RB     2     2      1     3   \n",
       "2          Cooper Kupp  LAR  WR       WR     3     5      3     4   \n",
       "3     Justin Jefferson  MIN  WR       WR     4     6      4     1   \n",
       "4        Austin Ekeler  LAC  RB       RB     5     4      6     5   \n",
       "\n",
       "                                         Markers  \n",
       "0  Mark Drafted                      Mark Keeper  \n",
       "1  Mark Drafted                      Mark Keeper  \n",
       "2  Mark Drafted                      Mark Keeper  \n",
       "3  Mark Drafted                      Mark Keeper  \n",
       "4  Mark Drafted                      Mark Keeper  "
      ]
     },
     "execution_count": 477,
     "metadata": {},
     "output_type": "execute_result"
    }
   ],
   "source": [
    "ffdf.head()"
   ]
  },
  {
   "cell_type": "code",
   "execution_count": 478,
   "metadata": {},
   "outputs": [],
   "source": [
    "#matching team names for both sites to merge properly\n",
    "filt = (ffdf['Team'] == 'JAX')\n",
    "ffdf[filt]\n",
    "ffdf.loc[filt, 'Team'] = 'JAC'"
   ]
  },
  {
   "cell_type": "code",
   "execution_count": 479,
   "metadata": {},
   "outputs": [],
   "source": [
    "#match ffb column name to FP data\n",
    "ffdf.rename(columns={'Name': 'PLAYER', 'Rank': 'FFB RK'},inplace=True)"
   ]
  },
  {
   "cell_type": "code",
   "execution_count": 480,
   "metadata": {},
   "outputs": [],
   "source": [
    "#capitalize all col headings\n",
    "ffdf.columns = [x.upper() for x in ffdf.columns]"
   ]
  },
  {
   "cell_type": "code",
   "execution_count": 481,
   "metadata": {},
   "outputs": [],
   "source": [
    "#remove unwanted cols\n",
    "ffdf.drop(columns=['JASON', 'MIKE', 'MARKERS', 'POSITION'], inplace=True)"
   ]
  },
  {
   "cell_type": "code",
   "execution_count": 482,
   "metadata": {},
   "outputs": [],
   "source": [
    "fpodf.drop(columns=['RK','TIERS','TEAM','SOS SEASON'], inplace=True)"
   ]
  },
  {
   "cell_type": "code",
   "execution_count": 483,
   "metadata": {},
   "outputs": [],
   "source": [
    "fpodf.rename(columns={'PLAYER NAME': 'PLAYER', 'BYE WEEK': 'BYE',\n",
    "                     'ECR VS. ADP': 'ECR V ADP'},inplace=True)"
   ]
  },
  {
   "cell_type": "code",
   "execution_count": null,
   "metadata": {},
   "outputs": [],
   "source": []
  },
  {
   "cell_type": "code",
   "execution_count": 484,
   "metadata": {},
   "outputs": [],
   "source": [
    "fpadf.drop(columns=['RK','TIERS','TEAM','YDS','TDS','REC','YDS.1',\n",
    "                    'TDS.1','ATT','YDS.2','TDS.2'], inplace=True)"
   ]
  },
  {
   "cell_type": "code",
   "execution_count": 485,
   "metadata": {},
   "outputs": [],
   "source": [
    "fpadf.rename(columns={'PLAYER NAME': 'PLAYER', 'FAN PTS': 'PPG',},inplace=True)"
   ]
  },
  {
   "cell_type": "code",
   "execution_count": 486,
   "metadata": {},
   "outputs": [],
   "source": [
    "#function to change POS to just POS not rank in order to merge dfs more accurately\n",
    "def change_pos(posrnk):\n",
    "    pos = posrnk[0:2]\n",
    "    return pos"
   ]
  },
  {
   "cell_type": "code",
   "execution_count": 487,
   "metadata": {},
   "outputs": [],
   "source": [
    "#apply above function\n",
    "fpodf['POS'] = fpodf['POS'].apply(change_pos)"
   ]
  },
  {
   "cell_type": "code",
   "execution_count": 488,
   "metadata": {},
   "outputs": [
    {
     "name": "stdout",
     "output_type": "stream",
     "text": [
      "<class 'pandas.core.frame.DataFrame'>\n",
      "RangeIndex: 486 entries, 0 to 485\n",
      "Data columns (total 4 columns):\n",
      " #   Column     Non-Null Count  Dtype \n",
      "---  ------     --------------  ----- \n",
      " 0   PLAYER     486 non-null    object\n",
      " 1   POS        486 non-null    object\n",
      " 2   BYE        486 non-null    object\n",
      " 3   ECR V ADP  486 non-null    object\n",
      "dtypes: object(4)\n",
      "memory usage: 15.3+ KB\n"
     ]
    }
   ],
   "source": [
    "fpodf.info()"
   ]
  },
  {
   "cell_type": "code",
   "execution_count": 489,
   "metadata": {},
   "outputs": [],
   "source": [
    "ecr = 0"
   ]
  },
  {
   "cell_type": "code",
   "execution_count": 490,
   "metadata": {},
   "outputs": [],
   "source": [
    "#function to generate adp col\n",
    "def gen_adp(eva):\n",
    "    global ecr\n",
    "    ecr +=1\n",
    "    if eva == '-':\n",
    "        return '-'\n",
    "    return int(eva) + ecr\n",
    "    "
   ]
  },
  {
   "cell_type": "code",
   "execution_count": 491,
   "metadata": {},
   "outputs": [],
   "source": [
    "#run fxn on ecr v adp col and generate new adp col\n",
    "fpodf['ADP'] = fpodf['ECR V ADP'].apply(gen_adp)"
   ]
  },
  {
   "cell_type": "code",
   "execution_count": 492,
   "metadata": {},
   "outputs": [],
   "source": [
    "fpodf.drop(columns=['ECR V ADP'], inplace=True)"
   ]
  },
  {
   "cell_type": "code",
   "execution_count": 493,
   "metadata": {},
   "outputs": [],
   "source": [
    "fptdf.rename(columns={'RK': 'FPS RK',\n",
    "                      'TIERS': 'TIER',\n",
    "                      'PLAYER NAME': 'PLAYER',\n",
    "                      'FAN PTS': 'TOT PTS',\n",
    "                      'YDS': 'PYD',\n",
    "                      'TDS': 'PTD',\n",
    "                      'YDS.1': 'REC YD',\n",
    "                      'TDS.1': 'REC TD',\n",
    "                      'ATT': 'RUS ATT',\n",
    "                      'YDS.2': 'RUS YD',\n",
    "                      'TDS.2': 'RUS TD'}, inplace=True)"
   ]
  },
  {
   "cell_type": "code",
   "execution_count": 494,
   "metadata": {},
   "outputs": [],
   "source": [
    "#combining the 2 fantasy pros data frames (including avg points onto the total points df)\n",
    "fpdf = pd.merge(fptdf, fpadf, on='PLAYER')"
   ]
  },
  {
   "cell_type": "code",
   "execution_count": 495,
   "metadata": {},
   "outputs": [],
   "source": [
    "#merging with the Overall FP rankings to make 1 df containing all relevant FP data (from 3 dfs)\n",
    "fpdf = pd.merge(fpdf, fpodf, on='PLAYER')"
   ]
  },
  {
   "cell_type": "code",
   "execution_count": 496,
   "metadata": {},
   "outputs": [],
   "source": [
    "#function to change all player names into an equal value\n",
    "#discards JR, III, ', ., etc from names and capitalizes them\n",
    "\n",
    "def update_name(player):\n",
    "    punct = ['.',',',\"'\",'-']\n",
    "    letter_list = [let.upper() for let in player if let not in punct]\n",
    "    player_str = ''.join(letter_list)\n",
    "    player_list = player_str.split()\n",
    "    if len(player_list[0]) > 2:\n",
    "        player_list[0] = player_list[0][0:3] \n",
    "    #makes first name only 3 letters (avoids abbreviated names like kenneth->ken, patrick->pat)\n",
    "        #if the players name is more than 2 letters (AJ)\n",
    "    if len(player_list) == 3:\n",
    "        if len(player_list[-1]) < 4:\n",
    "            player_list = player_list[0:-1]\n",
    "        return ' '.join(player_list)\n",
    "    else:\n",
    "        return str(player_list[0]) + ' ' + str(player_list[1])"
   ]
  },
  {
   "cell_type": "code",
   "execution_count": 497,
   "metadata": {},
   "outputs": [],
   "source": [
    "#run function on all player names for both dfs\n",
    "ffdf['PLAYER'] = ffdf['PLAYER'].apply(update_name)"
   ]
  },
  {
   "cell_type": "code",
   "execution_count": 498,
   "metadata": {},
   "outputs": [],
   "source": [
    "fpdf['PLAYER'] = fpdf['PLAYER'].apply(update_name)"
   ]
  },
  {
   "cell_type": "code",
   "execution_count": 499,
   "metadata": {},
   "outputs": [],
   "source": [
    "#making a new col to include player, team, and pos. this will avoid errors with players with the same name\n",
    "#ex Jamall Williams and Jameson williams, both play for DET but different positions\n",
    "#need to do this before we merge both sites data\n",
    "fpdf['PLAYER POS TM'] = fpdf['PLAYER'] + ', ' + fpdf['POS'] + ', ' + fpdf['TEAM']\n",
    "ffdf['PLAYER POS TM'] = ffdf['PLAYER'] + ', ' + ffdf['POS'] + ', ' + ffdf['TEAM']"
   ]
  },
  {
   "cell_type": "code",
   "execution_count": 500,
   "metadata": {},
   "outputs": [],
   "source": [
    "#removing PLAYER, POS, TEAM from one df so there arent duplicate messy cols on the merge\n",
    "ffdf.drop(columns=['PLAYER', 'POS', 'TEAM'], inplace=True)"
   ]
  },
  {
   "cell_type": "code",
   "execution_count": 501,
   "metadata": {},
   "outputs": [],
   "source": [
    "#combine FPS and FFB data frames \n",
    "combined_df = pd.merge(fpdf, ffdf, on='PLAYER POS TM')\n",
    "#this will merge a player with the same \n",
    "#first 3 or 2 letters of first name, team, position\n",
    "#includes only players on both rankings"
   ]
  },
  {
   "cell_type": "markdown",
   "metadata": {},
   "source": [
    "combined_df.shape"
   ]
  },
  {
   "cell_type": "code",
   "execution_count": 502,
   "metadata": {},
   "outputs": [],
   "source": [
    "#combined_full_df = pd.merge(fpdf, ffdf, how='outer', on='PLAYER')\n",
    "#includes all players, also makes calculations NaN values which makes data messy "
   ]
  },
  {
   "cell_type": "code",
   "execution_count": 503,
   "metadata": {},
   "outputs": [],
   "source": [
    "#shows the entire df\n",
    "pd.set_option('display.max_rows', None)"
   ]
  },
  {
   "cell_type": "code",
   "execution_count": 504,
   "metadata": {},
   "outputs": [],
   "source": [
    "#make a new column with the average rank of the 2 sites \n",
    "combined_df['AVG RK'] = (combined_df['FPS RK'] + combined_df['FFB RK'])/2"
   ]
  },
  {
   "cell_type": "code",
   "execution_count": 505,
   "metadata": {},
   "outputs": [],
   "source": [
    "#make index the average rank of the 2 sites \n",
    "#combined_df.set_index('AVG RK', inplace=True)"
   ]
  },
  {
   "cell_type": "code",
   "execution_count": 506,
   "metadata": {},
   "outputs": [],
   "source": [
    "#IF AVG rank is tied it sorts secondarily by andys rank\n",
    "combined_df.sort_values(by=['AVG RK', 'ANDY'], inplace=True)"
   ]
  },
  {
   "cell_type": "code",
   "execution_count": 507,
   "metadata": {},
   "outputs": [],
   "source": [
    "#combined_df.info()\n",
    "#changing relevant numbers to ints (clean up space) if numbers are float/null\n",
    "#combined_df['TIER'] = combined_df['TIER'].apply(lambda x: int(x) if type(x)=='float' else x)\n",
    "#lambda x: int(x) if isinstance(x, float) else x\n",
    "#combined_df[['TIER','FFB RK']].fillna('').astype(int)\n",
    "#combined_df['TIER'] = combined_df['TIER'].apply(lambda x: int(x) if x>=1 else x"
   ]
  },
  {
   "cell_type": "code",
   "execution_count": 508,
   "metadata": {},
   "outputs": [],
   "source": [
    "#initial values set for counters to make new positional ranks cols\n",
    "qbs = 0\n",
    "rbs = 0\n",
    "wrs = 0\n",
    "tes = 0"
   ]
  },
  {
   "cell_type": "code",
   "execution_count": 509,
   "metadata": {},
   "outputs": [],
   "source": [
    "#function used to generate a new column with PROJ POS, meaning the players rank for their pos\n",
    "#QB1, RB7 for ex\n",
    "def projected_pos(pos):\n",
    "    \n",
    "    #counters set above\n",
    "    global qbs \n",
    "    global rbs\n",
    "    global wrs\n",
    "    global tes\n",
    "    \n",
    "    if str(pos) == 'QB':\n",
    "        qbs +=1\n",
    "        return pos + ' ' + str(qbs)\n",
    "    elif str(pos) == 'RB':\n",
    "        rbs +=1\n",
    "        return pos + ' ' + str(rbs)\n",
    "    elif str(pos) == 'WR':\n",
    "        wrs +=1\n",
    "        return pos + ' ' + str(wrs)\n",
    "    elif str(pos) == 'TE':\n",
    "        tes +=1\n",
    "        return pos + ' ' + str(tes)"
   ]
  },
  {
   "cell_type": "code",
   "execution_count": 510,
   "metadata": {},
   "outputs": [],
   "source": [
    "#run fxn on pos col and generate new column\n",
    "combined_df['PROJ'] = combined_df['POS'].apply(projected_pos)"
   ]
  },
  {
   "cell_type": "code",
   "execution_count": 511,
   "metadata": {},
   "outputs": [],
   "source": [
    "#initial values set for counters to make new positional ranks cols for last years finishing ranks\n",
    "qbs2 = 0\n",
    "rbs2 = 0\n",
    "wrs2 = 0\n",
    "tes2 = 0\n",
    "flex = 0"
   ]
  },
  {
   "cell_type": "code",
   "execution_count": 512,
   "metadata": {},
   "outputs": [],
   "source": [
    "#function used to generate a new column with 2021 POS, meaning the players rank for their pos\n",
    "#at the end of the previous season\n",
    "#if the player did not play last year (rookie) the value will be NA\n",
    "#also includes in () if the player is WR RB or TE the overall flex rank, not just positional\n",
    "#QB1, RB7 for ex\n",
    "def last_season_pos(pos, total_points):\n",
    "    \n",
    "    #counters set above\n",
    "    global qbs2\n",
    "    global rbs2\n",
    "    global wrs2\n",
    "    global tes2\n",
    "    global flex\n",
    "    \n",
    "    if total_points == 0.0:\n",
    "        return 'NA'\n",
    "    elif str(pos) == 'QB':\n",
    "        qbs2 +=1\n",
    "        return pos + ' ' + str(qbs2)\n",
    "    elif str(pos) == 'RB':\n",
    "        flex +=1\n",
    "        rbs2 +=1\n",
    "        return pos + ' ' + str(rbs2) + ' ' + '(' + str(flex) + ')'\n",
    "    elif str(pos) == 'WR':\n",
    "        flex +=1\n",
    "        wrs2 +=1\n",
    "        return pos + ' ' + str(wrs2) + ' ' + '(' + str(flex) + ')'\n",
    "    elif str(pos) == 'TE':\n",
    "        flex +=1\n",
    "        tes2 +=1\n",
    "        return pos + ' ' + str(tes2) + ' ' + '(' + str(flex) + ')'"
   ]
  },
  {
   "cell_type": "code",
   "execution_count": 513,
   "metadata": {},
   "outputs": [],
   "source": [
    "#need to sort values by last years points before we run function, will change back after \n",
    "combined_df.sort_values(by=['TOT PTS'], ascending=False, inplace=True)"
   ]
  },
  {
   "cell_type": "code",
   "execution_count": 514,
   "metadata": {},
   "outputs": [],
   "source": [
    "#executes function using the POS and TOT PTS to create new col 2021 RK (where the \n",
    "#player finished last season)\n",
    "combined_df['FINISH'] = combined_df.apply(lambda x: last_season_pos(x['POS'], x['TOT PTS']), axis=1)"
   ]
  },
  {
   "cell_type": "code",
   "execution_count": 515,
   "metadata": {},
   "outputs": [],
   "source": [
    "#change sort back to the AVG RK\n",
    "combined_df.sort_values(by=['AVG RK', 'ANDY'], inplace=True)"
   ]
  },
  {
   "cell_type": "code",
   "execution_count": 516,
   "metadata": {},
   "outputs": [],
   "source": [
    "#can now drop POS, player, team columns\n",
    "combined_df.drop(columns=['POS', 'PLAYER', 'TEAM'], inplace=True)\n",
    "combined_df.rename(columns={'PLAYER POS TM': 'PLAYER'},inplace=True)\n",
    "#combined_df.head()"
   ]
  },
  {
   "cell_type": "code",
   "execution_count": 517,
   "metadata": {},
   "outputs": [],
   "source": [
    "#now that merge is completed with accuracy of player name, team, and pos, we can seperate out pos and team\n",
    "combined_df[['PLAYER','POS','TEAM']] = combined_df['PLAYER'].str.split(', ', expand=True)"
   ]
  },
  {
   "cell_type": "code",
   "execution_count": 518,
   "metadata": {},
   "outputs": [],
   "source": [
    "#pos_grp = combined_df.groupby(['POS'])\n",
    "#pos_grp.get_group('RB')"
   ]
  },
  {
   "cell_type": "code",
   "execution_count": 519,
   "metadata": {},
   "outputs": [],
   "source": [
    "#function to if applicable subtract the players finishing position last year minus their draft position this year\n",
    "    #positive values mean they finished positionally better than they are being drafted (good)\n",
    "    #negative values mean they are being drafted higher than they finished positionally last year (bad)\n",
    "def last_vs_proj(finish, proj):\n",
    "    if finish == 'NA':\n",
    "        return 0\n",
    "    else:\n",
    "        finish_list = finish.split()\n",
    "        proj_list = proj.split()\n",
    "        value = int(proj_list[1]) - int(finish_list[1])\n",
    "        return value "
   ]
  },
  {
   "cell_type": "code",
   "execution_count": 520,
   "metadata": {},
   "outputs": [],
   "source": [
    "combined_df['VALUE'] = combined_df.apply(lambda x: last_vs_proj(x['FINISH'], x['PROJ']), axis=1)"
   ]
  },
  {
   "cell_type": "code",
   "execution_count": 521,
   "metadata": {},
   "outputs": [],
   "source": [
    "#function to find difference between FFB and FPS rankings \n",
    "#both ranks are in the DF as ints already\n",
    "def correlation(ffbs, fpros):\n",
    "    return abs(ffbs-fpros)\n",
    "    "
   ]
  },
  {
   "cell_type": "code",
   "execution_count": 522,
   "metadata": {},
   "outputs": [],
   "source": [
    "rank_counter = 0"
   ]
  },
  {
   "cell_type": "code",
   "execution_count": 523,
   "metadata": {},
   "outputs": [],
   "source": [
    "#making a new column for numbering the picks instead of indexing by avg rk\n",
    "def total_rank(x):\n",
    "    global rank_counter\n",
    "    rank_counter +=1\n",
    "    return rank_counter"
   ]
  },
  {
   "cell_type": "code",
   "execution_count": 524,
   "metadata": {},
   "outputs": [],
   "source": [
    "combined_df['RK'] = combined_df['PLAYER'].apply(total_rank)"
   ]
  },
  {
   "cell_type": "code",
   "execution_count": 525,
   "metadata": {},
   "outputs": [],
   "source": [
    "#making new RANKS VS ADP COL INSTEAD OF FANTASY PROS ECR VS ADP\n",
    "def rkvadp(rank, adp):\n",
    "    \n",
    "    if adp == '-':\n",
    "        return '-'\n",
    "    \n",
    "    return int(adp) - int(rank)\n"
   ]
  },
  {
   "cell_type": "code",
   "execution_count": 526,
   "metadata": {},
   "outputs": [],
   "source": [
    "combined_df['RK V ADP'] = combined_df.apply(lambda x: rkvadp(x[\"RK\"], x[\"ADP\"]), axis=1)"
   ]
  },
  {
   "cell_type": "code",
   "execution_count": 527,
   "metadata": {},
   "outputs": [],
   "source": [
    "combined_df.set_index('RK', inplace=True)"
   ]
  },
  {
   "cell_type": "code",
   "execution_count": 528,
   "metadata": {},
   "outputs": [],
   "source": [
    "combined_df['DIFF'] = combined_df.apply(lambda x: correlation(x[\"FPS RK\"], x[\"FFB RK\"]), axis=1)"
   ]
  },
  {
   "cell_type": "code",
   "execution_count": null,
   "metadata": {},
   "outputs": [],
   "source": []
  },
  {
   "cell_type": "code",
   "execution_count": null,
   "metadata": {},
   "outputs": [],
   "source": []
  },
  {
   "cell_type": "code",
   "execution_count": null,
   "metadata": {},
   "outputs": [],
   "source": []
  },
  {
   "cell_type": "code",
   "execution_count": null,
   "metadata": {},
   "outputs": [],
   "source": []
  },
  {
   "cell_type": "code",
   "execution_count": 529,
   "metadata": {},
   "outputs": [],
   "source": [
    "#organizing columns\n",
    "combined_df = combined_df.reindex(columns=['TIER',\n",
    "                                           'PLAYER',\n",
    "                                           'TEAM',\n",
    "                                           'PROJ',\n",
    "                                           'AVG RK',\n",
    "                                           'FFB RK',\n",
    "                                           'FPS RK',\n",
    "                                           'ANDY',\n",
    "                                           'DIFF',\n",
    "                                           'TOT PTS',\n",
    "                                           'PPG',\n",
    "                                           'FINISH',\n",
    "                                           'VALUE',\n",
    "                                           'REC',\n",
    "                                           'REC YD',\n",
    "                                           'REC TD',\n",
    "                                           'RUS ATT',\n",
    "                                           'RUS YD',\n",
    "                                           'RUS TD',\n",
    "                                           'PYD',\n",
    "                                           'PTD',\n",
    "                                           'POS',\n",
    "                                           'RK V ADP',\n",
    "                                           'ADP',\n",
    "                                           'BYE',])"
   ]
  },
  {
   "cell_type": "code",
   "execution_count": 530,
   "metadata": {},
   "outputs": [],
   "source": [
    "#combined_df.sort_values(by=['VALUE'], ascending=False)\n",
    "#can do this positionally as well, make new DF for each position"
   ]
  },
  {
   "cell_type": "code",
   "execution_count": 531,
   "metadata": {},
   "outputs": [],
   "source": [
    "#combined_df.sort_values(by=['DIFF'], ascending=False)"
   ]
  },
  {
   "cell_type": "code",
   "execution_count": 532,
   "metadata": {},
   "outputs": [],
   "source": [
    "#converting to csv\n",
    "#should make DFs sorted by total, positional (print D too), value\n",
    "\n",
    "#Can use this and eliminate the POS column\n",
    "#qbs = combined_df['PROJ'].str.contains('QB')\n",
    "#type(combined_df[qbs]) #dataframe, can export on this\n",
    "\n",
    "#combined_df.to_csv('07_19_22_CombinedRanks.csv')"
   ]
  },
  {
   "cell_type": "code",
   "execution_count": 533,
   "metadata": {},
   "outputs": [
    {
     "data": {
      "text/plain": [
       "\"\\npos_grp = combined_df.groupby(['POS'])\\nqb_df = pos_grp.get_group('QB')\\nrb_df = pos_grp.get_group('RB')\\nwr_df = pos_grp.get_group('WR')\\nte_df = pos_grp.get_group('TE')\\n\""
      ]
     },
     "execution_count": 533,
     "metadata": {},
     "output_type": "execute_result"
    }
   ],
   "source": [
    "#MAKING POSITIONAL DATAFRAMES \n",
    "#if eliminating the POS column can do:\n",
    "#qbs = combined_df['PROJ'].str.contains('QB')\n",
    "#type(combined_df[qbs]) #dataframe\n",
    "'''\n",
    "pos_grp = combined_df.groupby(['POS'])\n",
    "qb_df = pos_grp.get_group('QB')\n",
    "rb_df = pos_grp.get_group('RB')\n",
    "wr_df = pos_grp.get_group('WR')\n",
    "te_df = pos_grp.get_group('TE')\n",
    "'''"
   ]
  },
  {
   "cell_type": "code",
   "execution_count": 534,
   "metadata": {},
   "outputs": [],
   "source": [
    "pd.set_option('display.max_columns', None)"
   ]
  },
  {
   "cell_type": "code",
   "execution_count": 535,
   "metadata": {},
   "outputs": [],
   "source": [
    "#CUSTOMIZING EACH POSITIONAL DF"
   ]
  },
  {
   "cell_type": "code",
   "execution_count": 536,
   "metadata": {},
   "outputs": [
    {
     "data": {
      "text/plain": [
       "\"\\nqb_df.drop(columns=['REC', 'REC YD', 'REC TD', 'POS'], inplace=True)\\nrb_df.drop(columns=['PYD', 'PTD', 'POS'], inplace=True)\\nwr_df.drop(columns=['PYD', 'PTD', 'POS'], inplace=True)\\nte_df.drop(columns=['RUS ATT','RUS YD','RUS TD','PYD', 'PTD', 'POS'], inplace=True)\\n\""
      ]
     },
     "execution_count": 536,
     "metadata": {},
     "output_type": "execute_result"
    }
   ],
   "source": [
    "'''\n",
    "qb_df.drop(columns=['REC', 'REC YD', 'REC TD', 'POS'], inplace=True)\n",
    "rb_df.drop(columns=['PYD', 'PTD', 'POS'], inplace=True)\n",
    "wr_df.drop(columns=['PYD', 'PTD', 'POS'], inplace=True)\n",
    "te_df.drop(columns=['RUS ATT','RUS YD','RUS TD','PYD', 'PTD', 'POS'], inplace=True)\n",
    "'''"
   ]
  },
  {
   "cell_type": "code",
   "execution_count": 537,
   "metadata": {},
   "outputs": [
    {
     "data": {
      "text/html": [
       "<div>\n",
       "<style scoped>\n",
       "    .dataframe tbody tr th:only-of-type {\n",
       "        vertical-align: middle;\n",
       "    }\n",
       "\n",
       "    .dataframe tbody tr th {\n",
       "        vertical-align: top;\n",
       "    }\n",
       "\n",
       "    .dataframe thead th {\n",
       "        text-align: right;\n",
       "    }\n",
       "</style>\n",
       "<table border=\"1\" class=\"dataframe\">\n",
       "  <thead>\n",
       "    <tr style=\"text-align: right;\">\n",
       "      <th></th>\n",
       "      <th>TIER</th>\n",
       "      <th>PLAYER</th>\n",
       "      <th>TEAM</th>\n",
       "      <th>PROJ</th>\n",
       "      <th>AVG RK</th>\n",
       "      <th>FFB RK</th>\n",
       "      <th>FPS RK</th>\n",
       "      <th>ANDY</th>\n",
       "      <th>DIFF</th>\n",
       "      <th>TOT PTS</th>\n",
       "      <th>PPG</th>\n",
       "      <th>FINISH</th>\n",
       "      <th>VALUE</th>\n",
       "      <th>REC</th>\n",
       "      <th>REC YD</th>\n",
       "      <th>REC TD</th>\n",
       "      <th>RUS ATT</th>\n",
       "      <th>RUS YD</th>\n",
       "      <th>RUS TD</th>\n",
       "      <th>PYD</th>\n",
       "      <th>PTD</th>\n",
       "      <th>POS</th>\n",
       "      <th>RK V ADP</th>\n",
       "      <th>ADP</th>\n",
       "      <th>BYE</th>\n",
       "    </tr>\n",
       "    <tr>\n",
       "      <th>RK</th>\n",
       "      <th></th>\n",
       "      <th></th>\n",
       "      <th></th>\n",
       "      <th></th>\n",
       "      <th></th>\n",
       "      <th></th>\n",
       "      <th></th>\n",
       "      <th></th>\n",
       "      <th></th>\n",
       "      <th></th>\n",
       "      <th></th>\n",
       "      <th></th>\n",
       "      <th></th>\n",
       "      <th></th>\n",
       "      <th></th>\n",
       "      <th></th>\n",
       "      <th></th>\n",
       "      <th></th>\n",
       "      <th></th>\n",
       "      <th></th>\n",
       "      <th></th>\n",
       "      <th></th>\n",
       "      <th></th>\n",
       "      <th></th>\n",
       "      <th></th>\n",
       "    </tr>\n",
       "  </thead>\n",
       "  <tbody>\n",
       "    <tr>\n",
       "      <th>1</th>\n",
       "      <td>1</td>\n",
       "      <td>CHR MCCAFFREY</td>\n",
       "      <td>CAR</td>\n",
       "      <td>RB 1</td>\n",
       "      <td>1.5</td>\n",
       "      <td>1</td>\n",
       "      <td>2</td>\n",
       "      <td>1</td>\n",
       "      <td>1</td>\n",
       "      <td>109.0</td>\n",
       "      <td>15.6</td>\n",
       "      <td>RB 35 (97)</td>\n",
       "      <td>-34</td>\n",
       "      <td>37</td>\n",
       "      <td>343</td>\n",
       "      <td>1</td>\n",
       "      <td>99</td>\n",
       "      <td>442</td>\n",
       "      <td>1</td>\n",
       "      <td>0</td>\n",
       "      <td>0</td>\n",
       "      <td>RB</td>\n",
       "      <td>2</td>\n",
       "      <td>3</td>\n",
       "      <td>13</td>\n",
       "    </tr>\n",
       "    <tr>\n",
       "      <th>2</th>\n",
       "      <td>1</td>\n",
       "      <td>JON TAYLOR</td>\n",
       "      <td>IND</td>\n",
       "      <td>RB 2</td>\n",
       "      <td>1.5</td>\n",
       "      <td>2</td>\n",
       "      <td>1</td>\n",
       "      <td>2</td>\n",
       "      <td>1</td>\n",
       "      <td>353.1</td>\n",
       "      <td>20.8</td>\n",
       "      <td>RB 1 (2)</td>\n",
       "      <td>1</td>\n",
       "      <td>40</td>\n",
       "      <td>360</td>\n",
       "      <td>2</td>\n",
       "      <td>332</td>\n",
       "      <td>1811</td>\n",
       "      <td>18</td>\n",
       "      <td>0</td>\n",
       "      <td>0</td>\n",
       "      <td>RB</td>\n",
       "      <td>-1</td>\n",
       "      <td>1</td>\n",
       "      <td>14</td>\n",
       "    </tr>\n",
       "    <tr>\n",
       "      <th>3</th>\n",
       "      <td>1</td>\n",
       "      <td>AUS EKELER</td>\n",
       "      <td>LAC</td>\n",
       "      <td>RB 3</td>\n",
       "      <td>4.0</td>\n",
       "      <td>5</td>\n",
       "      <td>3</td>\n",
       "      <td>4</td>\n",
       "      <td>2</td>\n",
       "      <td>308.8</td>\n",
       "      <td>19.3</td>\n",
       "      <td>RB 2 (3)</td>\n",
       "      <td>1</td>\n",
       "      <td>70</td>\n",
       "      <td>647</td>\n",
       "      <td>8</td>\n",
       "      <td>206</td>\n",
       "      <td>911</td>\n",
       "      <td>12</td>\n",
       "      <td>0</td>\n",
       "      <td>0</td>\n",
       "      <td>RB</td>\n",
       "      <td>-1</td>\n",
       "      <td>2</td>\n",
       "      <td>8</td>\n",
       "    </tr>\n",
       "    <tr>\n",
       "      <th>4</th>\n",
       "      <td>1</td>\n",
       "      <td>JUS JEFFERSON</td>\n",
       "      <td>MIN</td>\n",
       "      <td>WR 1</td>\n",
       "      <td>4.0</td>\n",
       "      <td>4</td>\n",
       "      <td>4</td>\n",
       "      <td>6</td>\n",
       "      <td>0</td>\n",
       "      <td>276.4</td>\n",
       "      <td>16.3</td>\n",
       "      <td>WR 4 (6)</td>\n",
       "      <td>-3</td>\n",
       "      <td>108</td>\n",
       "      <td>1616</td>\n",
       "      <td>10</td>\n",
       "      <td>6</td>\n",
       "      <td>14</td>\n",
       "      <td>0</td>\n",
       "      <td>0</td>\n",
       "      <td>0</td>\n",
       "      <td>WR</td>\n",
       "      <td>2</td>\n",
       "      <td>6</td>\n",
       "      <td>7</td>\n",
       "    </tr>\n",
       "    <tr>\n",
       "      <th>5</th>\n",
       "      <td>2</td>\n",
       "      <td>COO KUPP</td>\n",
       "      <td>LAR</td>\n",
       "      <td>WR 2</td>\n",
       "      <td>4.5</td>\n",
       "      <td>3</td>\n",
       "      <td>6</td>\n",
       "      <td>5</td>\n",
       "      <td>3</td>\n",
       "      <td>367.0</td>\n",
       "      <td>21.6</td>\n",
       "      <td>WR 1 (1)</td>\n",
       "      <td>1</td>\n",
       "      <td>145</td>\n",
       "      <td>1947</td>\n",
       "      <td>16</td>\n",
       "      <td>4</td>\n",
       "      <td>18</td>\n",
       "      <td>0</td>\n",
       "      <td>0</td>\n",
       "      <td>0</td>\n",
       "      <td>WR</td>\n",
       "      <td>-1</td>\n",
       "      <td>4</td>\n",
       "      <td>7</td>\n",
       "    </tr>\n",
       "  </tbody>\n",
       "</table>\n",
       "</div>"
      ],
      "text/plain": [
       "    TIER         PLAYER TEAM  PROJ  AVG RK  FFB RK  FPS RK  ANDY  DIFF  \\\n",
       "RK                                                                       \n",
       "1      1  CHR MCCAFFREY  CAR  RB 1     1.5       1       2     1     1   \n",
       "2      1     JON TAYLOR  IND  RB 2     1.5       2       1     2     1   \n",
       "3      1     AUS EKELER  LAC  RB 3     4.0       5       3     4     2   \n",
       "4      1  JUS JEFFERSON  MIN  WR 1     4.0       4       4     6     0   \n",
       "5      2       COO KUPP  LAR  WR 2     4.5       3       6     5     3   \n",
       "\n",
       "    TOT PTS   PPG      FINISH  VALUE  REC  REC YD  REC TD  RUS ATT  RUS YD  \\\n",
       "RK                                                                           \n",
       "1     109.0  15.6  RB 35 (97)    -34   37     343       1       99     442   \n",
       "2     353.1  20.8    RB 1 (2)      1   40     360       2      332    1811   \n",
       "3     308.8  19.3    RB 2 (3)      1   70     647       8      206     911   \n",
       "4     276.4  16.3    WR 4 (6)     -3  108    1616      10        6      14   \n",
       "5     367.0  21.6    WR 1 (1)      1  145    1947      16        4      18   \n",
       "\n",
       "    RUS TD  PYD  PTD POS RK V ADP ADP BYE  \n",
       "RK                                         \n",
       "1        1    0    0  RB        2   3  13  \n",
       "2       18    0    0  RB       -1   1  14  \n",
       "3       12    0    0  RB       -1   2   8  \n",
       "4        0    0    0  WR        2   6   7  \n",
       "5        0    0    0  WR       -1   4   7  "
      ]
     },
     "execution_count": 537,
     "metadata": {},
     "output_type": "execute_result"
    }
   ],
   "source": [
    "combined_df.head()"
   ]
  },
  {
   "cell_type": "code",
   "execution_count": 538,
   "metadata": {},
   "outputs": [],
   "source": [
    "#flex_filt = (combined_df['POS'] != 'QB')\n",
    "#ppg_df = combined_df[flex_filt].sort_values(by='PPG', ascending=False).head(30)\n",
    "#ppg_df.to_csv('2021 Flex PPG top 30')"
   ]
  },
  {
   "cell_type": "code",
   "execution_count": null,
   "metadata": {},
   "outputs": [],
   "source": []
  },
  {
   "cell_type": "code",
   "execution_count": null,
   "metadata": {},
   "outputs": [],
   "source": []
  }
 ],
 "metadata": {
  "kernelspec": {
   "display_name": "Python 3",
   "language": "python",
   "name": "python3"
  },
  "language_info": {
   "codemirror_mode": {
    "name": "ipython",
    "version": 3
   },
   "file_extension": ".py",
   "mimetype": "text/x-python",
   "name": "python",
   "nbconvert_exporter": "python",
   "pygments_lexer": "ipython3",
   "version": "3.8.2"
  }
 },
 "nbformat": 4,
 "nbformat_minor": 4
}
